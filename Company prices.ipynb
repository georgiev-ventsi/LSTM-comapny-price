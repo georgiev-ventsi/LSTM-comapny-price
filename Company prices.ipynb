{
 "cells": [
  {
   "cell_type": "markdown",
   "id": "825b02b4",
   "metadata": {},
   "source": [
    "https://www.youtube.com/watch?v=PuZY9q-aKLw\n"
   ]
  },
  {
   "cell_type": "code",
   "execution_count": 1,
   "id": "b37b4de6",
   "metadata": {},
   "outputs": [],
   "source": [
    "# Main imports\n",
    "\n",
    "import numpy as np\n",
    "import matplotlib.pyplot as plt\n",
    "import pandas as pd\n",
    "import pandas_datareader as web\n",
    "import datetime as dt\n",
    "\n",
    "from sklearn.preprocessing import MinMaxScaler\n",
    "from tensorflow.keras.layers import Dense, Dropout, LSTM\n",
    "from tensorflow.keras.models import Sequential"
   ]
  },
  {
   "cell_type": "code",
   "execution_count": 2,
   "id": "158ddb7c",
   "metadata": {},
   "outputs": [],
   "source": [
    "# load data\n",
    "company = 'FB'\n",
    "\n",
    "start = dt.datetime(2012, 1, 1)\n",
    "end = dt.datetime(2020, 1, 1)\n",
    "\n",
    "data = web.DataReader(company, 'yahoo', start, end)\n",
    "\n",
    "scaler = MinMaxScaler(feature_range=(0,1))\n",
    "scaled_data =  scaler.fit_transform(data['Close'].values.reshape(-1,1))\n",
    "\n",
    "prediction_days = 60\n",
    "\n",
    "x_train = []\n",
    "y_train = []\n",
    "\n",
    "for x in range(prediction_days, len(scaled_data)):\n",
    "    x_train.append(scaled_data[x-prediction_days:x, 0])\n",
    "    y_train.append(scaled_data[x, 0])\n",
    "    \n",
    "x_train, y_train = np.array(x_train), np.array(y_train)\n",
    "x_train = np.reshape(x_train, (x_train.shape[0], x_train.shape[1], 1))\n"
   ]
  },
  {
   "cell_type": "code",
   "execution_count": null,
   "id": "e892aba6",
   "metadata": {
    "scrolled": true
   },
   "outputs": [
    {
     "name": "stdout",
     "output_type": "stream",
     "text": [
      "Epoch 1/25\n",
      "59/59 [==============================] - 4s 66ms/step - loss: 0.0196:\n",
      "Epoch 2/25\n",
      "59/59 [==============================] - 4s 71ms/step - loss: 0.0036\n",
      "Epoch 3/25\n",
      "59/59 [==============================] - 4s 73ms/step - loss: 0.0038: 0s - los\n",
      "Epoch 4/25\n",
      "59/59 [==============================] - 4s 72ms/step - loss: 0.0033\n",
      "Epoch 5/25\n",
      "59/59 [==============================] - 4s 68ms/step - loss: 0.0031\n",
      "Epoch 6/25\n",
      "59/59 [==============================] - 4s 74ms/step - loss: 0.0034\n",
      "Epoch 7/25\n",
      "59/59 [==============================] - 4s 72ms/step - loss: 0.0038\n",
      "Epoch 8/25\n",
      "59/59 [==============================] - 4s 69ms/step - loss: 0.0029\n",
      "Epoch 9/25\n",
      "59/59 [==============================] - 4s 69ms/step - loss: 0.0027\n",
      "Epoch 10/25\n",
      "59/59 [==============================] - 4s 71ms/step - loss: 0.0031\n",
      "Epoch 11/25\n",
      "59/59 [==============================] - 4s 72ms/step - loss: 0.0028\n",
      "Epoch 12/25\n",
      "59/59 [==============================] - ETA: 0s - loss: 0.002 - 4s 70ms/step - loss: 0.0027\n",
      "Epoch 13/25\n",
      "59/59 [==============================] - 4s 74ms/step - loss: 0.0026\n",
      "Epoch 14/25\n",
      "59/59 [==============================] - 4s 71ms/step - loss: 0.0026\n",
      "Epoch 15/25\n",
      "59/59 [==============================] - 4s 70ms/step - loss: 0.0026\n",
      "Epoch 16/25\n",
      "59/59 [==============================] - 4s 70ms/step - loss: 0.0026\n",
      "Epoch 17/25\n",
      "59/59 [==============================] - 4s 70ms/step - loss: 0.0024\n",
      "Epoch 18/25\n",
      "59/59 [==============================] - 5s 83ms/step - loss: 0.0025\n",
      "Epoch 19/25\n",
      "59/59 [==============================] - 8s 131ms/step - loss: 0.0022\n",
      "Epoch 20/25\n",
      "59/59 [==============================] - 8s 144ms/step - loss: 0.0024\n",
      "Epoch 21/25\n",
      "59/59 [==============================] - 6s 108ms/step - loss: 0.0019 0s - loss: 0.001\n",
      "Epoch 22/25\n",
      "59/59 [==============================] - 4s 70ms/step - loss: 0.0021\n",
      "Epoch 23/25\n",
      "59/59 [==============================] - 5s 87ms/step - loss: 0.0026\n",
      "Epoch 24/25\n",
      "36/59 [=================>............] - ETA: 1s - loss: 0.0023"
     ]
    }
   ],
   "source": [
    "# Build model\n",
    "\n",
    "model = Sequential()\n",
    "\n",
    "model.add(LSTM(units=50, return_sequences=True, input_shape=(x_train.shape[1], 1)))\n",
    "model.add(Dropout(0.2))\n",
    "model.add(LSTM(units=50, return_sequences=True))\n",
    "model.add(Dropout(0.2))\n",
    "model.add(LSTM(units=50))\n",
    "model.add(Dropout(0.2))\n",
    "model.add(Dense(units=1)) #predicts the next closing \n",
    "\n",
    "model.compile(optimizer='adam', loss='mean_squared_error')\n",
    "model.fit(x_train, y_train, epochs=25, batch_size=32)"
   ]
  },
  {
   "cell_type": "code",
   "execution_count": null,
   "id": "0769ac44",
   "metadata": {},
   "outputs": [],
   "source": [
    "# Load test data\n",
    "test_start = dt.datetime(2020, 1, 1)\n",
    "test_end = dt.datetime.now()"
   ]
  },
  {
   "cell_type": "code",
   "execution_count": null,
   "id": "4386cdf5",
   "metadata": {},
   "outputs": [],
   "source": [
    "test_data = web.DataReader(company, 'yahoo', test_start, test_end)\n",
    "actual_prices = test_data['Close'].values"
   ]
  },
  {
   "cell_type": "code",
   "execution_count": null,
   "id": "d90b85c4",
   "metadata": {},
   "outputs": [],
   "source": [
    "total_dataset = pd.concat((data['Close'], test_data['Close']), axis=0)"
   ]
  },
  {
   "cell_type": "code",
   "execution_count": null,
   "id": "8518d821",
   "metadata": {},
   "outputs": [],
   "source": [
    "model_inputs = total_dataset[len(total_dataset) - len(test_data) - prediction_days:].values\n",
    "model_inputs = model_inputs.reshape(-1,1)\n",
    "model_inputs = scaler.transform(model_inputs)"
   ]
  },
  {
   "cell_type": "code",
   "execution_count": null,
   "id": "22b80d58",
   "metadata": {},
   "outputs": [],
   "source": [
    "# Make predictions on test data\n",
    "\n",
    "x_test = []\n",
    "\n",
    "for x in range(prediction_days, len(model_inputs)):\n",
    "    x_test.append(model_inputs[x-prediction_days:x, 0])\n",
    "    \n",
    "x_test = np.array(x_test)\n",
    "x_test = np.reshape(x_test, (x_test.shape[0], x_test.shape[1], 1))\n",
    "\n",
    "prediction_prices = model.predict(x_test)\n",
    "prediction_prices = scaler.inverse_transform(prediction_prices)"
   ]
  },
  {
   "cell_type": "code",
   "execution_count": null,
   "id": "6ac5df47",
   "metadata": {
    "scrolled": true
   },
   "outputs": [],
   "source": [
    "# Plot the test predictions\n",
    "\n",
    "plt.plot(actual_prices, color='black', label=f'Actual {company} Price')\n",
    "plt.plot(prediction_prices, color='green',label=f'Predicted {company} Price')\n",
    "plt.title(f'{company} Share Price')\n",
    "plt.xlabel('Time')\n",
    "plt.ylabel(f'{company} Share Price')\n",
    "plt.legend\n",
    "plt.show()"
   ]
  },
  {
   "cell_type": "code",
   "execution_count": null,
   "id": "d624a22e",
   "metadata": {},
   "outputs": [],
   "source": [
    "real_data = [model_inputs[len(model_inputs)+ 1 - prediction_days:len(model_inputs+1), 0]]\n",
    "real_data = np.array(real_data)\n",
    "real_data = np.reshape(real_data, (real_data.shape[0], real_data.shape[1],1))"
   ]
  },
  {
   "cell_type": "code",
   "execution_count": null,
   "id": "e1927451",
   "metadata": {},
   "outputs": [],
   "source": [
    "prediction = model.predict(real_data)\n",
    "prediction = scaler.inverse_transform(prediction)\n",
    "print(f'Prediction: {prediction}')"
   ]
  },
  {
   "cell_type": "code",
   "execution_count": null,
   "id": "a2792e20",
   "metadata": {},
   "outputs": [],
   "source": []
  }
 ],
 "metadata": {
  "kernelspec": {
   "display_name": "Python 3 (ipykernel)",
   "language": "python",
   "name": "python3"
  },
  "language_info": {
   "codemirror_mode": {
    "name": "ipython",
    "version": 3
   },
   "file_extension": ".py",
   "mimetype": "text/x-python",
   "name": "python",
   "nbconvert_exporter": "python",
   "pygments_lexer": "ipython3",
   "version": "3.8.12"
  }
 },
 "nbformat": 4,
 "nbformat_minor": 5
}
